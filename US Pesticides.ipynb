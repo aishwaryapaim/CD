{
 "cells": [
  {
   "cell_type": "code",
   "execution_count": 11,
   "id": "54fc4ace",
   "metadata": {},
   "outputs": [],
   "source": [
    "from selenium import webdriver\n",
    "import time\n",
    "from selenium.webdriver.common.by import By\n",
    "from selenium.webdriver.chrome.service import Service\n",
    "from selenium.webdriver.chrome.options import Options\n",
    "import pandas as pd\n",
    "import numpy as np\n",
    "from datetime import datetime"
   ]
  },
  {
   "cell_type": "code",
   "execution_count": 12,
   "id": "786864b4",
   "metadata": {},
   "outputs": [],
   "source": [
    "start_time = datetime.now()"
   ]
  },
  {
   "cell_type": "code",
   "execution_count": 2,
   "id": "ffb267b0",
   "metadata": {},
   "outputs": [
    {
     "data": {
      "text/html": [
       "<div>\n",
       "<style scoped>\n",
       "    .dataframe tbody tr th:only-of-type {\n",
       "        vertical-align: middle;\n",
       "    }\n",
       "\n",
       "    .dataframe tbody tr th {\n",
       "        vertical-align: top;\n",
       "    }\n",
       "\n",
       "    .dataframe thead th {\n",
       "        text-align: right;\n",
       "    }\n",
       "</style>\n",
       "<table border=\"1\" class=\"dataframe\">\n",
       "  <thead>\n",
       "    <tr style=\"text-align: right;\">\n",
       "      <th></th>\n",
       "      <th>EPA</th>\n",
       "      <th>Company</th>\n",
       "      <th>Address1</th>\n",
       "      <th>Address2</th>\n",
       "      <th>Registered Date</th>\n",
       "      <th>Current Date</th>\n",
       "      <th>CAS</th>\n",
       "    </tr>\n",
       "  </thead>\n",
       "  <tbody>\n",
       "  </tbody>\n",
       "</table>\n",
       "</div>"
      ],
      "text/plain": [
       "Empty DataFrame\n",
       "Columns: [EPA, Company, Address1, Address2, Registered Date, Current Date, CAS]\n",
       "Index: []"
      ]
     },
     "execution_count": 2,
     "metadata": {},
     "output_type": "execute_result"
    }
   ],
   "source": [
    "df = pd.read_excel('C:/Users/91903/Documents/Book1.xlsx', index_col=None)  \n",
    "arr = df[\"CAS Number\"].to_numpy()\n",
    "df = pd.DataFrame(columns = ['EPA', 'Company', 'Address1','Address2','Registered Date','Current Date','CAS'])\n",
    "df"
   ]
  },
  {
   "cell_type": "code",
   "execution_count": 3,
   "id": "4cf459d0",
   "metadata": {},
   "outputs": [],
   "source": [
    "def handle_popup():\n",
    "    try:\n",
    "        driver.find_elements(by=By.XPATH, value='//*[@id=\"fsrInvite\"]/section[3]/button[2]')[0].click()\n",
    "    except:\n",
    "        pass\n",
    "    return None"
   ]
  },
  {
   "cell_type": "code",
   "execution_count": 4,
   "id": "3b8f0477",
   "metadata": {},
   "outputs": [],
   "source": [
    "ser = Service(\"D:/Docs/chromedriver.exe\")\n",
    "op = webdriver.ChromeOptions()\n",
    "driver = webdriver.Chrome(service=ser, options=op)\n",
    "driver.maximize_window()  \n",
    "for i in arr:\n",
    "    driver.get(\"https://ordspub.epa.gov/ords/pesticides/f?p=PPLS:1\")\n",
    "    time.sleep(1)\n",
    "    handle_popup()\n",
    "    inputElement = driver.find_element(By.ID, \"P1_CODE_VAL\")\n",
    "    inputElement.send_keys(i)\n",
    "    driver.find_elements(by=By.XPATH, value='//*[@id=\"P1_SEARCH_TEST\"]')[0].click()\n",
    "    handle_popup()\n",
    "    driver.find_element(by=By.XPATH, value='/html/body/section/div[2]/div[1]/div/div/form/div/section/div/div/div[2]/div[2]/div[5]/div[1]/div/div[3]/table/tbody/tr[2]/td[1]/a').click()\n",
    "    handle_popup()\n",
    "    rows = len(driver.find_elements(by=By.XPATH, value='/html/body/section/div[2]/div[1]/div/div/form/div/div/div/div/div[2]/div[2]/div[5]/div[2]/table/tbody/tr'))\n",
    "   \n",
    "\n",
    "    strUrl = driver.current_url\n",
    "    \n",
    "    for r in range(2, rows):\n",
    "        driver.get(strUrl)\n",
    "        value = driver.find_element(by=By.XPATH, value='/html/body/section/div[2]/div[1]/div/div/form/div/div/div/div/div[2]/div[2]/div[5]/div[2]/table/tbody/tr['+str(r)+']/td[3]/a').click()\n",
    "        handle_popup()\n",
    "        data = []\n",
    "        table = driver.find_elements(by=By.XPATH, value='//*[@class=\"display_only apex-item-display-only\"]')\n",
    "        for j in range(6):\n",
    "            data.append(table[j].text)\n",
    "            handle_popup()\n",
    "        data.append(i)        \n",
    "        df.loc[len(df)] = data"
   ]
  },
  {
   "cell_type": "code",
   "execution_count": 15,
   "id": "6396be25",
   "metadata": {},
   "outputs": [],
   "source": [
    "df.to_csv('US Pesticides.csv')"
   ]
  },
  {
   "cell_type": "code",
   "execution_count": 14,
   "id": "2f4f8c0a",
   "metadata": {},
   "outputs": [
    {
     "name": "stdout",
     "output_type": "stream",
     "text": [
      "The total time taken is 0:00:54.686337\n"
     ]
    }
   ],
   "source": [
    "end_time = datetime.now()\n",
    "print('The total time taken is', (end_time - start_time))"
   ]
  }
 ],
 "metadata": {
  "kernelspec": {
   "display_name": "Python 3 (ipykernel)",
   "language": "python",
   "name": "python3"
  },
  "language_info": {
   "codemirror_mode": {
    "name": "ipython",
    "version": 3
   },
   "file_extension": ".py",
   "mimetype": "text/x-python",
   "name": "python",
   "nbconvert_exporter": "python",
   "pygments_lexer": "ipython3",
   "version": "3.9.6"
  }
 },
 "nbformat": 4,
 "nbformat_minor": 5
}
