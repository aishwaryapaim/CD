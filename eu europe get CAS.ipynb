{
 "cells": [
  {
   "cell_type": "code",
   "execution_count": 1,
   "id": "2a491d79",
   "metadata": {},
   "outputs": [],
   "source": [
    "import requests\n",
    "import json\n",
    "import pandas as pd\n",
    "from datetime import datetime\n"
   ]
  },
  {
   "cell_type": "code",
   "execution_count": null,
   "id": "e00d025e",
   "metadata": {},
   "outputs": [],
   "source": [
    "start_time = datetime.now()"
   ]
  },
  {
   "cell_type": "code",
   "execution_count": 40,
   "id": "165784b6",
   "metadata": {},
   "outputs": [
    {
     "data": {
      "text/plain": [
       "array(['(4Z-9Z)-7,9-Dodecadien-1-ol', '(E)-10-Dodecen-1-yl acetate',\n",
       "       '(E)-11-Tetradecen-1-yl acetate',\n",
       "       '(E)-2-Methyl-6-methylene-2,7-octadien-1-ol (myrcenol)',\n",
       "       '(E)-2-Methyl-6-methylene-3,7-octadien-2-ol (isomyrcenol)',\n",
       "       '(E)-5-Decen-1-ol', '(E)-5-Decen-1-yl acetate',\n",
       "       '(E)-8-Dodecen-1-yl acetate'], dtype=object)"
      ]
     },
     "execution_count": 40,
     "metadata": {},
     "output_type": "execute_result"
    }
   ],
   "source": [
    "df = pd.read_excel('D:/delete/ActiveSubstances.xls',skiprows = 2)\n",
    "mylist = df['Substance'].to_numpy()\n",
    "#mylist = mylist[0:8]\n",
    "mylist"
   ]
  },
  {
   "cell_type": "code",
   "execution_count": 41,
   "id": "6681e957",
   "metadata": {},
   "outputs": [],
   "source": [
    "cas= []\n",
    "\n",
    "for i in mylist:\n",
    "    base_url = 'https://pubchem.ncbi.nlm.nih.gov/rest/pug/compound/name/'+i+'/synonyms/JSON'\n",
    "    r = requests.get(base_url)\n",
    "    data = r.json()\n",
    "    jtopy=json.dumps(data)\n",
    "    dict_json=json.loads(jtopy)\n",
    "    try:\n",
    "        syno = dict_json['InformationList']['Information'][0]['Synonym']\n",
    "        for i in syno:\n",
    "            if 'CAS' in i:\n",
    "                i = i.split(\"CAS-\")\n",
    "                i=i[1]\n",
    "                cas.append(i)\n",
    "    except:\n",
    "        cas.append('NA')\n"
   ]
  },
  {
   "cell_type": "code",
   "execution_count": 42,
   "id": "7a970541",
   "metadata": {},
   "outputs": [
    {
     "data": {
      "text/plain": [
       "['NA', 'NA', '33189-72-9', 'NA', 'NA', 'NA', 'NA', 'NA']"
      ]
     },
     "execution_count": 42,
     "metadata": {},
     "output_type": "execute_result"
    }
   ],
   "source": [
    "cas"
   ]
  },
  {
   "cell_type": "code",
   "execution_count": 38,
   "id": "1738138e",
   "metadata": {},
   "outputs": [
    {
     "ename": "KeyError",
     "evalue": "'InformationList'",
     "output_type": "error",
     "traceback": [
      "\u001b[1;31m---------------------------------------------------------------------------\u001b[0m",
      "\u001b[1;31mKeyError\u001b[0m                                  Traceback (most recent call last)",
      "\u001b[1;32m~\\AppData\\Local\\Temp/ipykernel_14000/799466709.py\u001b[0m in \u001b[0;36m<module>\u001b[1;34m\u001b[0m\n\u001b[1;32m----> 1\u001b[1;33m \u001b[0msyno\u001b[0m \u001b[1;33m=\u001b[0m \u001b[0mdict_json\u001b[0m\u001b[1;33m[\u001b[0m\u001b[1;34m'InformationList'\u001b[0m\u001b[1;33m]\u001b[0m\u001b[1;33m[\u001b[0m\u001b[1;34m'Information'\u001b[0m\u001b[1;33m]\u001b[0m\u001b[1;33m[\u001b[0m\u001b[1;36m0\u001b[0m\u001b[1;33m]\u001b[0m\u001b[1;33m[\u001b[0m\u001b[1;34m'Synonym'\u001b[0m\u001b[1;33m]\u001b[0m\u001b[1;33m\u001b[0m\u001b[1;33m\u001b[0m\u001b[0m\n\u001b[0m\u001b[0;32m      2\u001b[0m \u001b[0mcas\u001b[0m\u001b[1;33m=\u001b[0m \u001b[1;33m[\u001b[0m\u001b[1;33m]\u001b[0m\u001b[1;33m\u001b[0m\u001b[1;33m\u001b[0m\u001b[0m\n\u001b[0;32m      3\u001b[0m \u001b[1;32mfor\u001b[0m \u001b[0mi\u001b[0m \u001b[1;32min\u001b[0m \u001b[0msyno\u001b[0m\u001b[1;33m:\u001b[0m\u001b[1;33m\u001b[0m\u001b[1;33m\u001b[0m\u001b[0m\n\u001b[0;32m      4\u001b[0m     \u001b[1;32mif\u001b[0m \u001b[1;34m'CAS'\u001b[0m \u001b[1;32min\u001b[0m \u001b[0mi\u001b[0m\u001b[1;33m:\u001b[0m\u001b[1;33m\u001b[0m\u001b[1;33m\u001b[0m\u001b[0m\n\u001b[0;32m      5\u001b[0m         \u001b[0mi\u001b[0m \u001b[1;33m=\u001b[0m \u001b[0mi\u001b[0m\u001b[1;33m.\u001b[0m\u001b[0msplit\u001b[0m\u001b[1;33m(\u001b[0m\u001b[1;34m\"CAS-\"\u001b[0m\u001b[1;33m)\u001b[0m\u001b[1;33m\u001b[0m\u001b[1;33m\u001b[0m\u001b[0m\n",
      "\u001b[1;31mKeyError\u001b[0m: 'InformationList'"
     ]
    }
   ],
   "source": [
    "end_time = datetime.now()\n",
    "print('The total time taken is', (end_time - start_time))"
   ]
  }
 ],
 "metadata": {
  "kernelspec": {
   "display_name": "Python 3 (ipykernel)",
   "language": "python",
   "name": "python3"
  },
  "language_info": {
   "codemirror_mode": {
    "name": "ipython",
    "version": 3
   },
   "file_extension": ".py",
   "mimetype": "text/x-python",
   "name": "python",
   "nbconvert_exporter": "python",
   "pygments_lexer": "ipython3",
   "version": "3.9.6"
  }
 },
 "nbformat": 4,
 "nbformat_minor": 5
}
