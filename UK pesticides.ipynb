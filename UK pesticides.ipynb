{
 "cells": [
  {
   "cell_type": "code",
   "execution_count": 1,
   "id": "cb6fd8d5",
   "metadata": {},
   "outputs": [],
   "source": [
    "from selenium import webdriver\n",
    "import time\n",
    "from selenium.webdriver.common.by import By\n",
    "from selenium.webdriver.chrome.service import Service\n",
    "from io import StringIO\n",
    "from selenium.webdriver.chrome.options import Options\n",
    "from selenium.webdriver.common.desired_capabilities import DesiredCapabilities\n",
    "from selenium.webdriver.common.keys import Keys\n",
    "import pandas as pd\n"
   ]
  },
  {
   "cell_type": "code",
   "execution_count": 2,
   "id": "87db8baa",
   "metadata": {},
   "outputs": [
    {
     "name": "stdout",
     "output_type": "stream",
     "text": [
      "2736\n"
     ]
    }
   ],
   "source": [
    "# create webdriver object\n",
    "ser = Service(\"D:/Docs/chromedriver.exe\")\n",
    "op = webdriver.ChromeOptions()\n",
    "driver = webdriver.Chrome(service=ser, options=op)\n",
    "driver.maximize_window()  \n",
    "driver.get(\"https://secure.pesticides.gov.uk/pestreg/prodsearch.asp\")\n",
    "time.sleep(1)\n",
    "driver.find_elements(by=By.XPATH, value='//input[@value=\"Product\"]')[0].click()\n",
    "r = driver.find_elements(by=By.XPATH, value='//*[@name=\"helplist\"]/option')\n",
    "print(len(r))"
   ]
  },
  {
   "cell_type": "code",
   "execution_count": 3,
   "id": "b7c4a62c",
   "metadata": {},
   "outputs": [],
   "source": [
    "products = []\n",
    "for i in range(1,len(r)):\n",
    "    products.append(r[i].text)"
   ]
  },
  {
   "cell_type": "code",
   "execution_count": 10,
   "id": "77da8b8c",
   "metadata": {},
   "outputs": [
    {
     "name": "stdout",
     "output_type": "stream",
     "text": [
      "3 Hour Weedkiller\n",
      "https://secure.pesticides.gov.uk/pestreg/getfullproduct.asp?productid=35004&pageno=1&origin=prodsearch\n",
      "3 In 1 Lawn Rescue\n",
      "https://secure.pesticides.gov.uk/pestreg/getfullproduct.asp?productid=40101&pageno=1&origin=prodsearch\n",
      "360gl Super Concentrated Weedkiller\n",
      "https://secure.pesticides.gov.uk/pestreg/getfullproduct.asp?productid=40555&pageno=1&origin=prodsearch\n",
      "3C Chlormequat 750\n",
      "https://secure.pesticides.gov.uk/pestreg/getfullproduct.asp?productid=30590&pageno=1&origin=prodsearch\n",
      "5504\n",
      "https://secure.pesticides.gov.uk/pestreg/getfullproduct.asp?productid=19082&pageno=1&origin=prodsearch\n",
      "90gl Concentrated Weedkiller\n",
      "https://secure.pesticides.gov.uk/pestreg/getfullproduct.asp?productid=40551&pageno=1&origin=prodsearch\n",
      "A10784A\n",
      "https://secure.pesticides.gov.uk/pestreg/getfullproduct.asp?productid=31954&pageno=1&origin=prodsearch\n",
      "A12739A\n",
      "https://secure.pesticides.gov.uk/pestreg/getfullproduct.asp?productid=28263&pageno=1&origin=prodsearch\n",
      "A13219F\n",
      "https://secure.pesticides.gov.uk/pestreg/getfullproduct.asp?productid=37966&pageno=1&origin=prodsearch\n",
      "A13814D\n",
      "https://secure.pesticides.gov.uk/pestreg/getfullproduct.asp?productid=37772&pageno=1&origin=prodsearch\n"
     ]
    }
   ],
   "source": [
    "Chemical_df = pd.DataFrame(columns = ['Product Name:','MAPP (Reg.) Number:','Extent of Authorisation:','Authorisation Holder:','Marketing Company:','Active Substance(s):','Formulation Type:','Field of Use:','Crops:','Amateur / Professional:','LERAP Category:','Aquatic Use:','Authorisation Level:','First Authorisation Date:','Product Expiry Date (notes):','Low Risk Product:','Aerial Use:','Parallel Import:','Available Notices:'])\n",
    "\n",
    "\n",
    "\n",
    "for i in range(10):\n",
    "    driver.get(\"https://secure.pesticides.gov.uk/pestreg/prodsearch.asp\")\n",
    "    inputElement = driver.find_element(By.ID, \"product\")\n",
    "    inputElement.send_keys(products[i])\n",
    "    driver.find_elements(by=By.XPATH, value='//*[@value=\"Get Results\"]')[0].click()\n",
    "    prod_url_element = driver.find_elements(by=By.XPATH, value='//*[@summary=\"Products found matching search Criteria\"]/tbody/tr/td/a')[0]\n",
    "    prod_url = prod_url_element.get_attribute(\"href\")\n",
    "    driver.get(prod_url)\n",
    "    strUrl = driver.current_url\n",
    "    tables = pd.read_html(strUrl)\n",
    "    df1 = tables[0]\n",
    "    df1 = df1.transpose()\n",
    "    df1.reset_index(drop=True, inplace=True)\n",
    "    df1.columns = df1.iloc[0]\n",
    "    df1 = df1[1:]\n",
    "    frames = [Chemical_df, df1]\n",
    "    Chemical_df = pd.concat(frames)\n"
   ]
  }
 ],
 "metadata": {
  "kernelspec": {
   "display_name": "Python 3 (ipykernel)",
   "language": "python",
   "name": "python3"
  },
  "language_info": {
   "codemirror_mode": {
    "name": "ipython",
    "version": 3
   },
   "file_extension": ".py",
   "mimetype": "text/x-python",
   "name": "python",
   "nbconvert_exporter": "python",
   "pygments_lexer": "ipython3",
   "version": "3.9.6"
  }
 },
 "nbformat": 4,
 "nbformat_minor": 5
}
